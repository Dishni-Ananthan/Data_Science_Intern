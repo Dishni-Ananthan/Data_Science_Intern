{
 "cells": [
  {
   "cell_type": "code",
   "execution_count": null,
   "id": "5c497de5-8e11-43cc-b84a-3a08c2f27e26",
   "metadata": {},
   "outputs": [],
   "source": [
    "#Control Flow\n",
    "#refers to the order in which individual instructions, functions, and statements are executed or evaluated.\n",
    "#Types\n",
    "#1. Conditional\n",
    "  # if \n",
    "  # if else\n",
    "  # if elif else\n",
    "#2. Iteratition Statements\n",
    "  # For loop\n",
    "  # while loop\n",
    "#3. Control statement\n",
    "  #break\n",
    "  #pass\n",
    "  #continue"
   ]
  },
  {
   "cell_type": "code",
   "execution_count": 1,
   "id": "5d2c3d4c-f707-40f9-be29-a29b11407156",
   "metadata": {},
   "outputs": [
    {
     "name": "stdin",
     "output_type": "stream",
     "text": [
      "Enter the user name: admin\n",
      "Enter the password: 12345\n"
     ]
    },
    {
     "name": "stdout",
     "output_type": "stream",
     "text": [
      "Login successfull !!!\n"
     ]
    }
   ],
   "source": [
    "#Login Admin\n",
    "username=input('Enter the user name:')\n",
    "password=input('Enter the password:')\n",
    "\n",
    "if username=='admin' and password=='12345':\n",
    "    print('Login successfull !!!')\n",
    "else:\n",
    "    print('Invalid Credential..')"
   ]
  },
  {
   "cell_type": "code",
   "execution_count": 4,
   "id": "9f6a13ed-b0f2-4f61-ba09-c41f08c10d5b",
   "metadata": {},
   "outputs": [
    {
     "name": "stdin",
     "output_type": "stream",
     "text": [
      "Enter the amount: 499\n"
     ]
    },
    {
     "name": "stdout",
     "output_type": "stream",
     "text": [
      "Discount is: 0\n",
      "Total amount to be paid is: 499.0\n"
     ]
    }
   ],
   "source": [
    "amount=float(input('Enter the amount:'))\n",
    "if amount >=1000:\n",
    "   discount=amount*0.10\n",
    "elif amount>=500:\n",
    "   discount=amount*0.05\n",
    "else:\n",
    "    discount=0\n",
    "print('Discount is:',discount)\n",
    "print(f'Total amount to be paid is: {amount-discount}')"
   ]
  },
  {
   "cell_type": "code",
   "execution_count": 6,
   "id": "4f8909fe-c7ce-4a3e-8d1e-fa8a2664a24a",
   "metadata": {},
   "outputs": [
    {
     "name": "stdin",
     "output_type": "stream",
     "text": [
      "Enter the signal color: Red\n"
     ]
    },
    {
     "name": "stdout",
     "output_type": "stream",
     "text": [
      "Invalid Signal !!\n"
     ]
    }
   ],
   "source": [
    "#Traffic Signal simulation\n",
    "signal=input('Enter the signal color:')\n",
    "if signal == 'red':\n",
    " print('Stop !!')\n",
    "elif signal=='yellow':\n",
    " print('Get Ready !!')\n",
    "elif signal=='green':\n",
    " print('Go !!')\n",
    "else:\n",
    "    print('Invalid Signal !!')\n",
    " "
   ]
  },
  {
   "cell_type": "code",
   "execution_count": 12,
   "id": "02fa8cf9-796e-4312-bd29-14bd24a110b9",
   "metadata": {},
   "outputs": [
    {
     "name": "stdin",
     "output_type": "stream",
     "text": [
      "Enter the Amount: 567\n"
     ]
    },
    {
     "name": "stdout",
     "output_type": "stream",
     "text": [
      "Amount should be in multiples of 100\n"
     ]
    }
   ],
   "source": [
    "#ATM cash Withdraw\n",
    "Balance=50000\n",
    "Withdrawcash=int(input('Enter the Amount:'))\n",
    "\n",
    "if Withdrawcash > Balance:\n",
    "    print('Insufficient Balance')\n",
    "elif Withdrawcash%100 !=0:\n",
    "   print('Amount should be in multiples of 100')\n",
    "elif Withdrawcash <= Balance:\n",
    "   Balance=Balance-Withdrawcash\n",
    "   print('Please collect your cash:',Withdrawcash)\n",
    "   print('Remaining Balance is :',Balance)\n"
   ]
  },
  {
   "cell_type": "code",
   "execution_count": 10,
   "id": "40fb15cc-005c-4cbd-8741-bf05dc34937d",
   "metadata": {},
   "outputs": [
    {
     "name": "stdin",
     "output_type": "stream",
     "text": [
      "is Jacob present today (Yes or No): yes\n"
     ]
    },
    {
     "name": "stdout",
     "output_type": "stream",
     "text": [
      "Jacob marked Present\n"
     ]
    },
    {
     "name": "stdin",
     "output_type": "stream",
     "text": [
      "is Amelia present today (Yes or No): no\n"
     ]
    },
    {
     "name": "stdout",
     "output_type": "stream",
     "text": [
      "Amelia marked Absent\n"
     ]
    },
    {
     "name": "stdin",
     "output_type": "stream",
     "text": [
      "is Natasha present today (Yes or No): yes\n"
     ]
    },
    {
     "name": "stdout",
     "output_type": "stream",
     "text": [
      "Natasha marked Present\n"
     ]
    },
    {
     "name": "stdin",
     "output_type": "stream",
     "text": [
      "is Marry present today (Yes or No): yes\n"
     ]
    },
    {
     "name": "stdout",
     "output_type": "stream",
     "text": [
      "Marry marked Present\n"
     ]
    },
    {
     "name": "stdin",
     "output_type": "stream",
     "text": [
      "is Jill present today (Yes or No): yes\n"
     ]
    },
    {
     "name": "stdout",
     "output_type": "stream",
     "text": [
      "Jill marked Present\n"
     ]
    },
    {
     "name": "stdin",
     "output_type": "stream",
     "text": [
      "is David present today (Yes or No): yes\n"
     ]
    },
    {
     "name": "stdout",
     "output_type": "stream",
     "text": [
      "David marked Present\n",
      "Total Employee Present today is 5 and absent is 1\n"
     ]
    }
   ],
   "source": [
    "#Attendance Tracker\n",
    "employee=['Jacob', 'Amelia', 'Natasha', 'Marry', 'Jill', 'David']\n",
    "p=0\n",
    "a=0\n",
    "for e in employee:\n",
    "  present=input(f'is {e} present today (Yes or No):')\n",
    "  if present.lower()=='yes':\n",
    "      print(f'{e} marked Present')\n",
    "      p+=1\n",
    "  else:\n",
    "      print(f'{e} marked Absent')\n",
    "      a+=1\n",
    "print(f'Total Employee Present today is {p} and absent is {a}')\n",
    "      "
   ]
  },
  {
   "cell_type": "code",
   "execution_count": null,
   "id": "516c7f76-5fb4-49b1-8b34-cb9da21b6bbd",
   "metadata": {},
   "outputs": [],
   "source": [
    "Age < 13 : Children\n",
    " - 13 - 19 : Teen\n",
    " - 20 - 59: Adult\n",
    " - 60+ : Senior Citizen\n",
    "\n",
    "2. Movie Ticket Pricing\n",
    " - Age < 5 : Free\n",
    " - 5 - 12 : 100\n",
    " - 13 - 60: 200\n",
    " - 60+ : 220"
   ]
  },
  {
   "cell_type": "code",
   "execution_count": 16,
   "id": "5a9ed31b-172d-48eb-a3ed-ba0004888153",
   "metadata": {},
   "outputs": [
    {
     "name": "stdin",
     "output_type": "stream",
     "text": [
      "Enter the age of the person: 13\n"
     ]
    },
    {
     "name": "stdout",
     "output_type": "stream",
     "text": [
      "Teen\n"
     ]
    }
   ],
   "source": [
    "#Age Group Classification\n",
    "age=int(input('Enter the age of the person:'))\n",
    "if age < 13:\n",
    "        print('Children')\n",
    "elif age >=13 and age<=19 : \n",
    "         print('Teen')\n",
    "elif age >=20 and age<=59 : \n",
    "         print('Adult')\n",
    "else: \n",
    "         print('Senior citizen')\n",
    " "
   ]
  },
  {
   "cell_type": "code",
   "execution_count": 23,
   "id": "9a58afb8-6d7b-48bf-8b03-eff62d72182b",
   "metadata": {},
   "outputs": [
    {
     "name": "stdin",
     "output_type": "stream",
     "text": [
      "Enter the number of tickets: 4\n",
      "Enter the age of the 1 person : 61\n",
      "Enter the age of the 2 person : 5\n",
      "Enter the age of the 3 person : 13\n",
      "Enter the age of the 4 person : 4\n"
     ]
    },
    {
     "name": "stdout",
     "output_type": "stream",
     "text": [
      "Total Amount to be paid is : 520 \n"
     ]
    }
   ],
   "source": [
    "#Movie Ticket Pricing\n",
    "\n",
    "num=int(input('Enter the number of tickets:'))\n",
    "amount=0\n",
    "for n in range(num):\n",
    "    age=int(input(f'Enter the age of the {n+1} person :'))\n",
    "    if age <5:\n",
    "        amount+=0\n",
    "    elif age>=5 and age <=12:\n",
    "         amount+=100\n",
    "    elif age>=13 and age <=60:\n",
    "         amount+=200\n",
    "    else: \n",
    "         amount+=220\n",
    "print(f'Total Amount to be paid is : {amount} ')"
   ]
  },
  {
   "cell_type": "code",
   "execution_count": null,
   "id": "78183fcf-2747-40bf-bdc6-5e7fa1ecc0ff",
   "metadata": {},
   "outputs": [],
   "source": []
  },
  {
   "cell_type": "code",
   "execution_count": null,
   "id": "d224374f-7e2b-4ed5-8562-78d5988533f8",
   "metadata": {},
   "outputs": [],
   "source": []
  }
 ],
 "metadata": {
  "kernelspec": {
   "display_name": "Python [conda env:base] *",
   "language": "python",
   "name": "conda-base-py"
  },
  "language_info": {
   "codemirror_mode": {
    "name": "ipython",
    "version": 3
   },
   "file_extension": ".py",
   "mimetype": "text/x-python",
   "name": "python",
   "nbconvert_exporter": "python",
   "pygments_lexer": "ipython3",
   "version": "3.13.5"
  }
 },
 "nbformat": 4,
 "nbformat_minor": 5
}
