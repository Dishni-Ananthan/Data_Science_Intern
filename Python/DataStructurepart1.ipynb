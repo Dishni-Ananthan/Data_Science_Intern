{
 "cells": [
  {
   "cell_type": "markdown",
   "id": "be614c80-f81a-43e2-b563-0db2a25efba8",
   "metadata": {},
   "source": [
    "# Data Structure\n",
    " #A data structure is a way of organizing, storing, and managing data so that it can be accessed and modified efficiently.\n",
    " \n",
    "#Why use Data Structure\n",
    "1. Handle Large volume of Data efficiently\n",
    "2. To improve performance /perform multiple operation insertion,Deletion,sorting,Searching\n",
    "3. Solving Real world problems(Indexing,Memory Management)\n",
    "\n",
    "#Types\n",
    "\n",
    "#Linear Data Structures – Elements are arranged in a sequence/Static\n",
    "\n",
    "    Array/List – Fixed-size collection of elements of the same type.\n",
    "    Tuple- Immutable collection of multiple data types and duplicates.\n",
    "    Linked List – A chain of nodes where each node contains data and a pointer to the next.\n",
    "    Stack – Follows LIFO (Last In First Out) principle.\n",
    "    Queue – Follows FIFO (First In First Out) principle.\n",
    "    \n",
    "#Non-Linear Data Structures – Data is not stored sequentially.\n",
    "\n",
    "    Tree – Hierarchical structure (like a family tree).\n",
    "    Graph – A set of nodes (vertices) connected by edges.\n",
    "    Trie – A tree-like data structure used to efficiently store and retrieve strings, especially useful for searching words in a dictionary or \n",
    "    autocomplete systems.\n",
    "    \n",
    "#Hash Based Data Structure\n",
    "\n",
    "     Dictionary\n",
    "     Set\n",
    "\n",
    "#Algorithm\n",
    "\n",
    "    Searching\n",
    "    Sorting"
   ]
  },
  {
   "cell_type": "markdown",
   "id": "95886a3d-fcee-497c-a710-b828edc29332",
   "metadata": {},
   "source": [
    "#List/Arrays\n",
    "Collection of elements stored in a single variable\n",
    "Represented in [] .Both input and output will always be in []\n",
    "Mutable- Add/insert/Update/Chnage/Delete the elements\n",
    "Allows duplicates\n",
    "Mixed element data types(number/string)\n",
    "Fixed Index Value - Access/Slicing\n",
    "should not use variable name list for list"
   ]
  },
  {
   "cell_type": "code",
   "execution_count": 14,
   "id": "3be1aca2-6123-4096-9e78-146c0f0be83d",
   "metadata": {},
   "outputs": [
    {
     "name": "stdout",
     "output_type": "stream",
     "text": [
      "['Dalia', 'Jasmine', 'Rose', 'Lotus', 'Poppy']\n",
      "Rose\n",
      "Poppy\n",
      "['Jasmine', 'Lotus']\n",
      "['Dalia', 'Jasmine', 'Rose', 'Lotus']\n",
      "['Poppy', 'Lotus', 'Rose', 'Jasmine', 'Dalia']\n",
      "['Dalia', 'Jasmine', 'Rose', 'Lotus', 'Poppy', 'Sunflower', 'Lilly', 'Jasmine']\n",
      "['Dalia', 'Jasmine', 'Rose', 'Lotus', 'Iris', 'Poppy', 'Sunflower', 'Lilly', 'Jasmine']\n",
      "['Dalia', 'Jasmine', 'Rose', 'Lotus', 'Poppy', 'Sunflower', 'Lilly', 'Jasmine']\n",
      "['Dalia', 'Jasmine', 'Rose', 'Poppy', 'Sunflower', 'Lilly', 'Jasmine']\n",
      "Rose\n",
      "['Dalia', 'Jasmine', 'Poppy', 'Sunflower', 'Lilly', 'Jasmine']\n"
     ]
    }
   ],
   "source": [
    "#create list\n",
    "flowers=['Dalia','Jasmine','Rose','Lotus','Poppy']\n",
    "print(flowers)\n",
    "\n",
    "#Access a list\n",
    "print(flowers[2])\n",
    "print(flowers[-1])\n",
    "\n",
    "#Slicing\n",
    "print(flowers[1:5:2])\n",
    "print(flowers[-5:-1]) #Negative Indexing\n",
    "print(flowers[::-1]) #Reverse a string\n",
    "\n",
    "#Adding Elements to the list\n",
    "flowers.append('Sunflower')\n",
    "flowers.append('Lilly')\n",
    "flowers.append('Jasmine')\n",
    "print(flowers)\n",
    "flowers.insert(4,'Iris') #insert is used to add elements to the specific position\n",
    "print(flowers)\n",
    "\n",
    "#Removing Elements\n",
    "flowers.remove('Iris') #Remove the required element\n",
    "print(flowers)\n",
    "flowers.pop(3) #Remove an element based on its position \n",
    "print(flowers)\n",
    "\n",
    "#can store removed element by assigning it to a variable\n",
    "removed=flowers.pop(2)\n",
    "print(removed)\n",
    "print(flowers)"
   ]
  },
  {
   "cell_type": "code",
   "execution_count": null,
   "id": "b03cbe37-06d9-4bcf-8078-794778d413e9",
   "metadata": {},
   "outputs": [],
   "source": [
    "#Tuple\n",
    "Collection of elements stored in a single variable\n",
    "Represented in () .Both input and output will always be in ()\n",
    "UnMutable- Add/insert/Update/Chnage/Delete the elements cannot be performed. Can perform addition/insert/delete by converting the tuple to List\n",
    "Allows duplicates\n",
    "Mixed element data types(number/string)\n",
    "Fixed Index Value - Access/Slicing\n",
    "Eg: Geolocations (lattitude,longitude)"
   ]
  },
  {
   "cell_type": "code",
   "execution_count": 24,
   "id": "968d086b-7cad-4aa7-a9d0-dae5c5d9fe58",
   "metadata": {},
   "outputs": [
    {
     "name": "stdout",
     "output_type": "stream",
     "text": [
      "('Red', 'Blue', 'Brown', 'Yellow', 'Black')\n",
      "Brown\n",
      "Black\n",
      "('Blue', 'Yellow')\n",
      "('Red', 'Blue', 'Brown', 'Yellow')\n",
      "('Black', 'Yellow', 'Brown', 'Blue', 'Red')\n",
      "['Red', 'Blue', 'Brown', 'Yellow', 'Black']\n",
      "['Red', 'Blue', 'Brown', 'Yellow', 'Black', 'Grey', 'Purple']\n",
      "Before Converting list color to tuple colors('Red', 'Blue', 'Brown', 'Yellow', 'Black')\n",
      "After converting to tuple ('Red', 'Blue', 'Brown', 'Yellow', 'Black', 'Grey', 'Purple')\n",
      "['Red', 'Blue', 'Brown', 'Yellow', 'Black', 'Grey', 'Purple']\n",
      "['Red', 'Brown', 'Yellow', 'Black', 'Grey', 'Purple']\n",
      "['Red', 'Brown', 'Yellow', 'Black', 'Purple']\n",
      "Yellow\n",
      "['Red', 'Brown', 'Black', 'Purple']\n",
      "Befor converting ('Red', 'Blue', 'Brown', 'Yellow', 'Black', 'Grey', 'Purple')\n",
      "After converting to tuple ('Red', 'Brown', 'Black', 'Purple')\n"
     ]
    }
   ],
   "source": [
    "#create Tuple\n",
    "colors=('Red','Blue','Brown','Yellow','Black')\n",
    "print(colors)\n",
    "\n",
    "#Access a Tuple\n",
    "print(colors[2])\n",
    "print(colors[-1])\n",
    "\n",
    "#Slicing\n",
    "print(colors[1:5:2])\n",
    "print(colors[-5:-1]) #Negative Indexing\n",
    "print(colors[::-1]) #Reverse a string\n",
    "\n",
    "#Adding Elements to the list\n",
    "color=list(colors) #converting tuple to list\n",
    "print(color)\n",
    "color.append('Grey')\n",
    "color.insert(6,'Purple')\n",
    "print(color)\n",
    "print(f'Before Converting list color to tuple colors{colors}')\n",
    "colors=tuple(color)\n",
    "print(f'After converting to tuple {colors}')\n",
    "\n",
    "#Removing Elements\n",
    "coloremove=list(colors)\n",
    "print(coloremove)\n",
    "coloremove.remove('Blue')\n",
    "print(coloremove)\n",
    "coloremove.pop(4)\n",
    "print(coloremove)\n",
    "removedcolor=coloremove.pop(2)\n",
    "print(removedcolor)\n",
    "print(coloremove)\n",
    "print(f'Befor converting {colors}')\n",
    "colors=tuple(coloremove)\n",
    "print(f'After converting to tuple {colors}')\n",
    "\n"
   ]
  },
  {
   "cell_type": "markdown",
   "id": "fc07f65f-b1ca-460f-baa8-429cbe45aa64",
   "metadata": {},
   "source": [
    "#Stack \n",
    "LIFO Last In First Out\n",
    "Operations: \n",
    " Push - adding an element\n",
    " Peek-to view the top element\n",
    " Remove(Pop) - to remove the element one by one\n",
    " \n",
    "#Use Case\n",
    "1. Function Call: Tracks function calls in programming. When a function is called, it's pushed on the stack; when it returns, it's popped.\n",
    "2. Balanced Parentheses Checker: Helps ensure opening and closing brackets are matched correctly.\n",
    "3. Browser History (Back Function): Tracks visited pages. Pressing \"Back\" pops the last page.\n",
    "4. Expression Evaluation: Infix to postfix conversion and evaluation using stack.\n",
    "5. Backtracking Algorithms: Like in solving mazes or puzzles (e.g. Sudoku, DFS traversal)."
   ]
  },
  {
   "cell_type": "code",
   "execution_count": 29,
   "id": "71ec0fad-1ca0-4612-82d1-7daa26281848",
   "metadata": {},
   "outputs": [
    {
     "name": "stdout",
     "output_type": "stream",
     "text": [
      "[100, 200, 300, 400, 500]\n",
      "After adding stack top element is 500\n",
      "stack after first pop[100, 200, 300, 400]\n",
      "stack after second pop[100, 200, 300]\n",
      "After removing few elements from stack top element is 300\n"
     ]
    }
   ],
   "source": [
    "#push,pop,peek\n",
    "#create an empty stack\n",
    "stack=[]\n",
    "\n",
    "#Appending to stack\n",
    "stack.append(100)\n",
    "stack.append(200)\n",
    "stack.append(300)\n",
    "stack.append(400)\n",
    "stack.append(500)\n",
    "print(stack)\n",
    "\n",
    "#Peek \n",
    "peekvalue=stack[-1]\n",
    "print(f'After adding stack top element is {peekvalue}')\n",
    "\n",
    "#pop\n",
    "stack.pop()\n",
    "print(f'stack after first pop{stack}')\n",
    "stack.pop()\n",
    "print(f'stack after second pop{stack}')\n",
    "\n",
    "#Peek \n",
    "peekvalue=stack[-1]\n",
    "print(f'After removing few elements from stack top element is {peekvalue}')"
   ]
  },
  {
   "cell_type": "code",
   "execution_count": 40,
   "id": "5c30423e-3440-46fd-9db4-79e700332d86",
   "metadata": {},
   "outputs": [
    {
     "name": "stdout",
     "output_type": "stream",
     "text": [
      "False\n",
      "True\n"
     ]
    }
   ],
   "source": [
    "#Checking if stack empty\n",
    "#Stack is empty if its length is zero\n",
    "\n",
    "def isempty(stack): #defined a function to check stach empty\n",
    "    return len(stack)==0  #return true if the stack is empty else return false\n",
    "\n",
    "print(isempty(stack))\n",
    "new_stack=[ ]\n",
    "print(isempty(new_stack))"
   ]
  },
  {
   "cell_type": "code",
   "execution_count": 38,
   "id": "44d23921-9ac8-400a-b382-c238990d758c",
   "metadata": {},
   "outputs": [
    {
     "name": "stdout",
     "output_type": "stream",
     "text": [
      " dcba\n"
     ]
    }
   ],
   "source": [
    "#Reverse a string using stack \n",
    "def reversestring(word):\n",
    "    stack=list(word) #creating stack by converting the string to list\n",
    "    reverse=' ' #empty string variable to store the reversed element for each iteration\n",
    "    while len(stack)>0: #since the number of iteration is unknown use while loop\n",
    "        reverse += stack.pop() #storing the removed variable on each step\n",
    "    return reverse #returning the result after the loop exits \n",
    "\n",
    "print(reversestring('abcd'))"
   ]
  },
  {
   "cell_type": "code",
   "execution_count": 50,
   "id": "9b37320f-c97f-4a9c-aa84-6d5ff28d2b22",
   "metadata": {},
   "outputs": [
    {
     "name": "stdout",
     "output_type": "stream",
     "text": [
      "False\n",
      "False\n",
      "True\n"
     ]
    }
   ],
   "source": [
    "#Balanced Parentheses Checker\n",
    "def match(expr):\n",
    "    stack =[ ] #creating an emptystack/list\n",
    "    pair={')':'(','}':'{',']':'['} #define matching pairs of paranthesis\n",
    "    for i in expr: #iterating over expressions\n",
    "      if i in '[{(': #if the expression contains opening paranthesis \n",
    "          stack.append(i) #add to the stack will find the respective closing paranthesis later\n",
    "      elif i in ']})': #checking if its closing paranthesis \n",
    "        if not stack or stack[-1]!=pair[i]: #if its closing then checking the stack is empty or the top element of stack is the respective opening paranthesis if not return false\n",
    "           return False\n",
    "        stack.pop() #if there is a matching opening paranthesis in the stack remove it form the stack\n",
    "    return len(stack)==0 #if the stack is empty means all the paranthesis are balnced return true else return False\n",
    "      \n",
    "print(match('{Di}[('))\n",
    "print(match('((d){]]'))\n",
    "print(match('((d)){[]}'))\n",
    "          \n",
    "         \n",
    "    "
   ]
  },
  {
   "cell_type": "code",
   "execution_count": null,
   "id": "97adc496-560c-4ed0-9b04-0caaffc65e30",
   "metadata": {},
   "outputs": [],
   "source": [
    "#Find the next greater element\n",
    "def greatest(stack): \n",
    "    num=int(input('Enter the number to find the greatest:')) #enter the numebr to find the next greatest \n",
    "    index=stack.index(num) #getting the index position of the number\n",
    "    l=len(stack) #length of the stack\n",
    "    greatest=[] #initialising stack to hold the greatest value\n",
    "    for i in range(index+1,l): #iterate over the index position\n",
    "      if stack[i]>num:  #comparing if the num is greater than the next index position \n",
    "         greatest= stack[i]  #if the entered num and the number in the next index position is greater then assign the greatest number\n",
    "         break #immediate exit after finding the next greatest \n",
    "      else: \n",
    "          greatest=None #if there is no other gretaest element other than the entered numebr then assign greatest to none\n",
    "    if greatest is not None:\n",
    "        print(f'The Next greatest Number is {greatest}')\n",
    "    else:\n",
    "        print('There is no other greatest Number')\n",
    "stack = [4, 2, 5, 1, 9, 6]\n",
    "greatest(stack)"
   ]
  },
  {
   "cell_type": "code",
   "execution_count": null,
   "id": "bb8973de-6ceb-4e1a-8681-97fdaebb1f92",
   "metadata": {},
   "outputs": [],
   "source": [
    "4#Possible subsets from a list\n",
    "#def subset(lists):\n",
    "#    stack=lists\n",
    "#    sub=[ ]\n",
    "#    for val in stack:\n",
    "#         sub.append([val])\n",
    "  #       for rev in stack[::-1]:\n",
    "   #        sub.append([val,rev])\n",
    "    #sub.append(lists)\n",
    "    #return sub\n",
    "\n",
    "#s=[1,2,3,4]\n",
    "#print(subset(s)) \n",
    "\n",
    "def subset(lists):\n",
    "    stack=[[]] #create an empty subset list\n",
    "    for val in lists: #iteracte over list for the subsets\n",
    "         sub=[] #create a new list to add the values for the subset\n",
    "         for rev in stack :\n",
    "            sub.append(rev+[val])\n",
    "         stack.extend(sub) #appending all the subsets\n",
    "    return stack #fianl set of subset \n",
    "\n",
    "s=[1,2,3,4]\n",
    "print(subset(s))"
   ]
  },
  {
   "cell_type": "code",
   "execution_count": null,
   "id": "56895be3-1668-4365-9fd2-2c76710c9462",
   "metadata": {},
   "outputs": [],
   "source": [
    "#Queue\n",
    "# FIFO- First In First Out\n",
    "#Enqueue-Adding Elements\n",
    "#Dequeue- Removing elements\n",
    "#Peek -To view the element at the front or top of the structure without removing it.\n",
    "#Is_Empty - check the queue is empty"
   ]
  },
  {
   "cell_type": "code",
   "execution_count": 46,
   "id": "a8dd4dae-912b-490f-ac7e-cb92647f81ba",
   "metadata": {},
   "outputs": [],
   "source": [
    "#Enqueue \n",
    "\n",
    "queue=[]\n",
    "def enqueue(item):\n",
    "    queue.append(item)\n",
    "    print(f'{item} is added to the queue')\n"
   ]
  },
  {
   "cell_type": "code",
   "execution_count": 47,
   "id": "256c5f1f-a386-4adf-9c17-de5ea6d2345d",
   "metadata": {},
   "outputs": [
    {
     "name": "stdout",
     "output_type": "stream",
     "text": [
      "Jacob is added to the queue\n",
      "Amelia is added to the queue\n",
      "Natasha is added to the queue\n",
      "Marry is added to the queue\n",
      "Jill is added to the queue\n",
      "David is added to the queue\n",
      "['Jacob', 'Amelia', 'Natasha', 'Marry', 'Jill', 'David']\n"
     ]
    }
   ],
   "source": [
    "enqueue('Jacob')\n",
    "enqueue('Amelia')\n",
    "enqueue('Natasha')\n",
    "enqueue('Marry')\n",
    "enqueue('Jill')\n",
    "enqueue('David')\n",
    "print(queue)"
   ]
  },
  {
   "cell_type": "code",
   "execution_count": 40,
   "id": "1231b8af-b2c5-4505-a154-df53f22c3001",
   "metadata": {},
   "outputs": [],
   "source": [
    "##Is_Empty\n",
    "\n",
    "def Is_Empty(queue):\n",
    "     return len(queue)==0\n",
    "         "
   ]
  },
  {
   "cell_type": "code",
   "execution_count": 34,
   "id": "199e3b22-5170-40cc-96d7-243485f86b2e",
   "metadata": {},
   "outputs": [
    {
     "data": {
      "text/plain": [
       "True"
      ]
     },
     "execution_count": 34,
     "metadata": {},
     "output_type": "execute_result"
    }
   ],
   "source": [
    "Is_Empty(queue)\n",
    "que=[]\n",
    "Is_Empty(que)"
   ]
  },
  {
   "cell_type": "code",
   "execution_count": 43,
   "id": "84cac2f0-4f4d-4587-8c14-2964d1d05ae0",
   "metadata": {},
   "outputs": [],
   "source": [
    "#Dequeue\n",
    "def dequeue(queue):\n",
    "  if Is_Empty(queue):\n",
    "      print('Empty queue')\n",
    "  else:\n",
    "   removed=queue.pop(0)\n",
    "   print(f'{removed} is removed from the queue')\n",
    "\n",
    "# IndexError: pop from empty list -> when trying to pop/remove  elements from empty list"
   ]
  },
  {
   "cell_type": "code",
   "execution_count": 44,
   "id": "e695a539-77b3-452f-9d89-85080301695d",
   "metadata": {},
   "outputs": [
    {
     "name": "stdout",
     "output_type": "stream",
     "text": [
      "Empty queue\n",
      "[]\n"
     ]
    }
   ],
   "source": [
    "dequeue(queue)\n",
    "print(queue)\n"
   ]
  },
  {
   "cell_type": "code",
   "execution_count": 45,
   "id": "683c2231-162c-4ebd-86f2-d103919cf370",
   "metadata": {},
   "outputs": [
    {
     "name": "stdout",
     "output_type": "stream",
     "text": [
      "Empty queue\n",
      "[]\n"
     ]
    }
   ],
   "source": [
    "dequeue(queue)\n",
    "print(queue)"
   ]
  },
  {
   "cell_type": "code",
   "execution_count": null,
   "id": "62f4b85b-0bdb-4b99-8a35-1e6d99356c69",
   "metadata": {},
   "outputs": [],
   "source": []
  },
  {
   "cell_type": "code",
   "execution_count": null,
   "id": "88f51cfb-29f4-47d0-93cc-5a24eb562af4",
   "metadata": {},
   "outputs": [],
   "source": []
  }
 ],
 "metadata": {
  "kernelspec": {
   "display_name": "Python [conda env:base] *",
   "language": "python",
   "name": "conda-base-py"
  },
  "language_info": {
   "codemirror_mode": {
    "name": "ipython",
    "version": 3
   },
   "file_extension": ".py",
   "mimetype": "text/x-python",
   "name": "python",
   "nbconvert_exporter": "python",
   "pygments_lexer": "ipython3",
   "version": "3.13.5"
  }
 },
 "nbformat": 4,
 "nbformat_minor": 5
}
